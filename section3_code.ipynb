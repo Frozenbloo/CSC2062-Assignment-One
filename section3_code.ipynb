{
 "cells": [
  {
   "cell_type": "markdown",
   "id": "ef9b909b-64be-4ffc-abd2-1c884ee739c6",
   "metadata": {},
   "source": [
    "# Section Three - Statistical Analysis of feature data\n",
    "\n",
    "In this section, I perform extensive statistical analysis on the 16 features extracted in Section Two from the 140 handwritten images. This analysis is divided into four parts:\n",
    "1.\tDescriptive Statistics and Visualisations (3.1)\n",
    "2.\tGroup-Specific Summary Statistics and Discriminative Visualisations (3.2)\n",
    "3.\tHypothesis Testing of Group Differences (3.3)\n",
    "4.\tCorrelation and Linear Association Analysis among features (3.4)"
   ]
  },
  {
   "cell_type": "markdown",
   "id": "117b7205-37ff-4d38-922d-2084497b8583",
   "metadata": {},
   "source": [
    "## Library Installation\n",
    "The commands needed to install the libraries required for section three."
   ]
  },
  {
   "cell_type": "code",
   "execution_count": null,
   "id": "06dc313f-863b-4249-9e84-519e89a1e957",
   "metadata": {},
   "outputs": [],
   "source": [
    "%pip install pandas\n",
    "%pip install numpy \n",
    "%pip install matplotlib \n",
    "%pip install seaborn \n",
    "%pip install scipy \n",
    "%pip install scikit-learn\n",
    "%pip install IPython"
   ]
  },
  {
   "cell_type": "markdown",
   "id": "c6a48656-8bd9-42e1-9c1e-bb71cc69543c",
   "metadata": {
    "editable": true,
    "slideshow": {
     "slide_type": ""
    },
    "tags": []
   },
   "source": [
    "## Import Libraries and Load Data"
   ]
  },
  {
   "cell_type": "code",
   "execution_count": null,
   "id": "a779847d-1705-48d0-9b83-fdf394d55bea",
   "metadata": {},
   "outputs": [],
   "source": [
    "import pandas\n",
    "import numpy\n",
    "import matplotlib.pyplot as pyplot\n",
    "import seaborn\n",
    "from scipy import stats\n",
    "from IPython.display import display\n",
    "\n",
    "data = pandas.read_csv(\"40394874_features.csv\", delimiter=',')\n",
    "print(\"Head of Feature Data\")\n",
    "print(data.head())\n",
    "\n",
    "numeric_cols = ['nr_pix', 'rows_with_1', 'cols_with_1', 'rows_with_3p', 'cols_with_3p', 'aspect_ratio', 'neigh_1', 'no_neigh_above', 'no_neigh_below', 'no_neigh_left', 'no_neigh_right', 'no_neigh_horiz', 'no_neigh_vert', 'connected_areas', 'eyes', 'custom']\n",
    "\n",
    "data[numeric_cols] = data[numeric_cols].apply(pandas.to_numeric)"
   ]
  },
  {
   "cell_type": "markdown",
   "id": "bd27e0ee-9908-40b0-b325-ea313c5fd053",
   "metadata": {},
   "source": [
    "## Descriptive Statistics and Visualisations\n",
    "\n",
    "In this section I calculated summary statistics for each numeric feature and generated histograms for the first six key features."
   ]
  },
  {
   "cell_type": "code",
   "execution_count": null,
   "id": "d8706bf7-05f1-4b5b-a3aa-20f37d543adc",
   "metadata": {},
   "outputs": [],
   "source": [
    "print(\"Overall Summary Statistics:\")\n",
    "display(data[numeric_cols].describe())\n",
    "\n",
    "features_for_histograms = ['nr_pix', 'rows_with_1', 'cols_with_1', 'rows_with_3p', 'cols_with_3p', 'aspect_ratio']\n",
    "\n",
    "seaborn.set_theme()\n",
    "\n",
    "for feature in features_for_histograms:\n",
    "    pyplot.figure(figsize=(8, 12))\n",
    "    seaborn.histplot(data[feature], bins=25, kde=True)\n",
    "    pyplot.title(f\"Histogram of {feature}\")\n",
    "    pyplot.xlabel(feature)\n",
    "    pyplot.ylabel(\"Frequency\")\n",
    "    pyplot.show()"
   ]
  },
  {
   "attachments": {},
   "cell_type": "markdown",
   "id": "7f3c68d2-8473-4c8e-924d-28cbe6c25edd",
   "metadata": {},
   "source": [
    "## Group-Specific Summary Statistics and Discriminative Visualisations\n",
    "I divided the dataset into two groups – letters (symbols a-j) and non-letters (all other symbols) – and computed summary statistics for all 16 features, including the mean, standard deviation, and median for each group. I then created Violin Plots for the most significant features."
   ]
  },
  {
   "cell_type": "code",
   "execution_count": null,
   "id": "8b292f7d-536f-4174-bc1e-454bfb08afdb",
   "metadata": {},
   "outputs": [],
   "source": [
    "letters = list(\"abcdefghij\")\n",
    "data['group'] = data['label'].apply(lambda x: 'letter' if x in letters else 'non-letter')\n",
    "print(\"Group Counts:\")\n",
    "print(data['group'].value_counts())\n",
    "\n",
    "group_stats = data.groupby('group')[numeric_cols].agg(['mean', 'std', 'median'])\n",
    "print(\"Descriptive Statistics by Group:\")\n",
    "for feature in numeric_cols:\n",
    "    print(f\"{feature}\\n\\n\")\n",
    "    display(group_stats[feature])\n",
    "\n",
    "for feature in ['aspect_ratio', 'connected_areas', 'custom']:\n",
    "    pyplot.figure(figsize=(8, 6))\n",
    "    seaborn.violinplot(x='group', y=feature, data=data)\n",
    "    pyplot.title(f\"Violin plot of {feature} by Group\")\n",
    "    pyplot.xlabel(\"Group\")\n",
    "    pyplot.ylabel(feature)\n",
    "    pyplot.tight_layout()\n",
    "    pyplot.show()"
   ]
  },
  {
   "cell_type": "markdown",
   "id": "e9177d2d-531b-4e25-996e-1a5a99ba698c",
   "metadata": {},
   "source": [
    "## Hypothesis Testing of Group Differences\n",
    "In this section, I performed statistical tests to determine whether the differences in feature values between letters and non-letters and non-letters are statistically significant. For each of the 16 features, an independent t-test, assuming unequal variances, is conducted comparing the two groups."
   ]
  },
  {
   "cell_type": "code",
   "execution_count": null,
   "id": "fe45e398-58c8-4a73-8eba-03f578ce4530",
   "metadata": {},
   "outputs": [],
   "source": [
    "print(\"Hypothesis Testing (t-tests) for all features:\")\n",
    "\n",
    "hypothesis_results = {}\n",
    "\n",
    "for feature in numeric_cols:\n",
    "    group_letters = data[data['group'] == 'letter'][feature]\n",
    "    group_nonletters = data[data['group'] == 'non-letter'][feature]\n",
    "    t_stat, p_val = stats.ttest_ind(group_letters, group_nonletters, equal_var=False)\n",
    "    hypothesis_results[feature] = {'t-test': f\"{t_stat:.5f}\",'p-value': f\"{p_val:.5f}\"}\n",
    "    print(f\"{feature}: t-statistic = {t_stat:}, p-value = {p_val:}\")\n",
    "\n",
    "print('\\n\\n')\n",
    "\n",
    "hypothesis_data = pandas.DataFrame(hypothesis_results).T\n",
    "hypothesis_data = hypothesis_data.reset_index().rename(columns={'index': 'Feature'})\n",
    "display(hypothesis_data)\n",
    "\n",
    "features = list(hypothesis_results.keys())\n",
    "p_values = [float(hypothesis_results[feat]['p-value']) for feat in features]\n",
    "\n",
    "pyplot.figure(figsize=(6, 16))\n",
    "pyplot.bar(features, p_values)\n",
    "pyplot.axhline(0.05, linestyle='--', label=\"p = 0.05\")\n",
    "pyplot.xticks(rotation=90, ha='right')\n",
    "pyplot.xlabel(\"Features\")\n",
    "pyplot.ylabel(\"p-value\")\n",
    "pyplot.title(\"p-values from t-tests for each feature\")\n",
    "pyplot.legend()\n",
    "pyplot.tight_layout()\n",
    "pyplot.show()\n",
    "\n",
    "for feature in ['no_neigh_horiz', 'eyes', 'rows_with_1']:\n",
    "    pyplot.figure(figsize=(8, 6))\n",
    "    seaborn.violinplot(x='group', y=feature, data=data)\n",
    "    pyplot.title(f\"Violin plot of {feature} by Group\")\n",
    "    pyplot.xlabel(\"Group\")\n",
    "    pyplot.ylabel(feature)\n",
    "    pyplot.tight_layout()\n",
    "    pyplot.show()"
   ]
  },
  {
   "cell_type": "markdown",
   "id": "c052d94e-3be5-4113-86ca-41d8923d5df6",
   "metadata": {},
   "source": [
    "## Correlation and Linear Association Analysis among features\n",
    "In this section, I investigated the linear relationships amongst the 16 features extracted from the handwritten images. I calculated the  Pearson’s correlation coefficient, computed a correlation matrix that quantifies the degree to which each pair of features vary together using the Python Data Analysis Library (pandas), and generated Scatter Plots based on the pairs with strong correlation."
   ]
  },
  {
   "cell_type": "code",
   "execution_count": null,
   "id": "7b6866c9-b341-42d7-9701-b219e3ae514b",
   "metadata": {},
   "outputs": [],
   "source": [
    "pearson_correlation_matrix = data[numeric_cols].corr()\n",
    "\n",
    "pyplot.figure(figsize=(12, 10))\n",
    "seaborn.heatmap(pearson_correlation_matrix, annot=True, cmap='coolwarm', fmt=\".2f\")\n",
    "pyplot.title(\"Heatmap of Pearson Correlation Coefficients\")\n",
    "pyplot.tight_layout()\n",
    "pyplot.show()\n",
    "\n",
    "high_correlation_pairs = []\n",
    "for i, feat1 in enumerate(numeric_cols):\n",
    "    for feat2 in numeric_cols[i+1:]:\n",
    "        correlation_value = pearson_correlation_matrix.loc[feat1, feat2]\n",
    "        if abs(correlation_value) > 0.7:\n",
    "            high_correlation_pairs.append((feat1, feat2, correlation_value))\n",
    "\n",
    "print(\"Highly Correlated Feature Pairs (|r| > 0.7):\")\n",
    "for pair in high_correlation_pairs:\n",
    "    print(f\"{pair[0]} and {pair[1]}: correlation = {pair[2]:.2f}\")\n",
    "\n",
    "print(\"\\n\")\n",
    "\n",
    "for pair in high_correlation_pairs:\n",
    "    feat1, feat2, _ = pair\n",
    "    pyplot.figure(figsize=(8, 6))\n",
    "    seaborn.scatterplot(x=feat1, y=feat2, hue='group', data=data)\n",
    "    pyplot.title(f\"Scatter Plot: {feat1} vs. {feat2}\")\n",
    "    pyplot.xlabel(feat1)\n",
    "    pyplot.ylabel(feat2)\n",
    "    pyplot.tight_layout()\n",
    "    pyplot.show()"
   ]
  }
 ],
 "metadata": {
  "kernelspec": {
   "display_name": "Python 3 (ipykernel)",
   "language": "python",
   "name": "python3"
  },
  "language_info": {
   "codemirror_mode": {
    "name": "ipython",
    "version": 3
   },
   "file_extension": ".py",
   "mimetype": "text/x-python",
   "name": "python",
   "nbconvert_exporter": "python",
   "pygments_lexer": "ipython3",
   "version": "3.13.1"
  }
 },
 "nbformat": 4,
 "nbformat_minor": 5
}
