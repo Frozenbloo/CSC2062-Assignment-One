{
 "cells": [
  {
   "cell_type": "markdown",
   "id": "b804945d-0c93-4f59-920b-ed405816ff48",
   "metadata": {},
   "source": [
    "# Section One - Creating a dataset\n",
    "### Function Definitions\n",
    "This cell contains the two main functions required for this section.\n",
    "The function `pgm_to_matrix` reads an ASCII PGM file, applies a threshold to convert pixel values into binary values (using `BLACK_PIXEL` and `WHITE_PIXEL`).\n",
    "The function `save_matrix_to_csv` writes the matrix (made up of a llist of lists) into a CSV file."
   ]
  },
  {
   "cell_type": "code",
   "execution_count": null,
   "id": "4133b66a-739e-4fdd-9c09-9c26847ebc20",
   "metadata": {},
   "outputs": [],
   "source": [
    "import os\n",
    "import csv\n",
    "\n",
    "THRESHOLD = 128\n",
    "BLACK_PIXEL = 1\n",
    "WHITE_PIXEL = 0\n",
    "\n",
    "INPUT_FOLDER = 'images/PGM'\n",
    "OUTPUT_FOLDER = 'images/CSV'\n",
    "os.makedirs(OUTPUT_FOLDER, exist_ok=True)\n",
    "\n",
    "def pgm_to_matrix(pgm_file_path):\n",
    "    with open(pgm_file_path, 'r') as file:\n",
    "        pgm_format = file.readline().strip()\n",
    "        if pgm_format != 'P2':\n",
    "            raise ValueError(\"PGM Files are not ASCII Formatted.\")\n",
    "\n",
    "        file.readline()\n",
    "\n",
    "        width, height = map(int, file.readline().strip().split())\n",
    "\n",
    "        file.readline()\n",
    "\n",
    "        pixel_values = []\n",
    "        for line in file:\n",
    "            pixel_values.extend([int(num) for num in line.split()])\n",
    "\n",
    "    expected_pixel_len = width * height\n",
    "    if len(pixel_values) != expected_pixel_len:\n",
    "        raise ValueError(f\"Expected {expected_pixel_len}, got {len(pixel_values)}!\")\n",
    "\n",
    "    binary_pixels = [BLACK_PIXEL if value < THRESHOLD else WHITE_PIXEL for value in pixel_values]\n",
    "\n",
    "    matrix = []\n",
    "    for i in range(height):\n",
    "        row = binary_pixels[i * width:(i + 1) * width]\n",
    "        matrix.append(row)\n",
    "\n",
    "    return matrix\n",
    "\n",
    "\n",
    "def save_matrix_to_csv(matrix, csv_file_path):\n",
    "    with open(csv_file_path, 'w', newline='') as csvfile:\n",
    "        writer = csv.writer(csvfile)\n",
    "        for row in matrix:\n",
    "            writer.writerow(row)"
   ]
  },
  {
   "cell_type": "markdown",
   "id": "572f6e11-4224-42cb-bb47-4fab77a6c827",
   "metadata": {},
   "source": [
    "### File Processing\n",
    "This cell loops through every file in the `INPUT_FOLDER` (which contains the PGM files exported from GIMP), converts each one to a binary matrix using the function found in the cell above, and then saves the matrix as a CSV file in the `OUTPUT_FOLDER`."
   ]
  },
  {
   "cell_type": "code",
   "execution_count": null,
   "id": "8835a7c0-1366-4647-bfb2-25dbd7bb037a",
   "metadata": {},
   "outputs": [],
   "source": [
    "for filename in os.listdir(INPUT_FOLDER):\n",
    "    if filename.lower().endswith('.pgm'):\n",
    "        pgm_file_path = os.path.join(INPUT_FOLDER, filename)\n",
    "        try:\n",
    "            matrix = pgm_to_matrix(pgm_file_path)\n",
    "        except Exception as e:\n",
    "            print(f\"Error processing {pgm_file_path}: {e}\")\n",
    "            continue\n",
    "\n",
    "        csv_filename = os.path.splitext(filename)[0] + '.csv'\n",
    "        csv_file_path = os.path.join(OUTPUT_FOLDER, csv_filename)\n",
    "        save_matrix_to_csv(matrix, csv_file_path)\n",
    "        print(f\"Converted {pgm_file_path} to {csv_file_path}\")"
   ]
  },
  {
   "cell_type": "markdown",
   "id": "6600e9a2",
   "metadata": {},
   "source": [
    "### File Verification\n",
    "In this cell, we randomly select one CSV file from the `OUTPUT_FOLDER` and verify that it meets the assignment specifications.\n",
    "The checks include:\n",
    "- Confirming that the file is read using UTF-8 encoding.\n",
    "- Ensuring the file is exactly 18x18.\n",
    "- Verifying that the only values found in the file are either \"0\" or \"1\""
   ]
  },
  {
   "cell_type": "code",
   "execution_count": null,
   "id": "d2174c2e-ae9e-45ea-9baa-391f44bd92eb",
   "metadata": {},
   "outputs": [],
   "source": [
    "import os\n",
    "import csv\n",
    "import random\n",
    "\n",
    "OUTPUT_FOLDER = 'images/CSV'\n",
    "\n",
    "all_csv_files = [file for file in os.listdir(OUTPUT_FOLDER) if file.lower().endswith('.csv')]\n",
    "if not all_csv_files:\n",
    "    print(\"No CSV files found in \", OUTPUT_FOLDER)\n",
    "else:\n",
    "    random_file = random.choice(all_csv_files)\n",
    "    random_csv = os.path.join(OUTPUT_FOLDER, random_file)\n",
    "    print(f\"Chose {random_csv} to sample.\")\n",
    "\n",
    "    with open(random_csv, 'r', encoding='utf-8') as file:\n",
    "        reader = csv.reader(file)\n",
    "        matrix = [row for row in reader]\n",
    "\n",
    "    print(\"File contents:\")\n",
    "    for row in matrix:\n",
    "        print(row)\n",
    "\n",
    "    #Verify file to spec\n",
    "    expected_rows = 18\n",
    "    if len(matrix) != expected_rows:\n",
    "        print(f\"File does not have the expected row count {len(matrix)} instead of {expected_rows}\")\n",
    "\n",
    "    expected_columns = 18\n",
    "    file_correct = True\n",
    "    for i, row in enumerate(matrix):\n",
    "        if len(row) != expected_columns:\n",
    "            print(f\"Row {i + 1} has {len(row)} columns instead of {expected_columns}\")\n",
    "            file_correct = False\n",
    "        for j, val in enumerate(row):\n",
    "            if val not in ('0', '1'):\n",
    "                print(f\"Value {val} at row {i + 1}, column {j + 1} is not the expected '0' or '1'\")\n",
    "                file_correct = False\n",
    "\n",
    "    if file_correct:\n",
    "        print(\"Verification Passed! The file meets the specification.\")\n",
    "    else:\n",
    "        print(\"Verification failed: The file does not meet the specification.\")"
   ]
  }
 ],
 "metadata": {
  "kernelspec": {
   "display_name": "Python 3 (ipykernel)",
   "language": "python",
   "name": "python3"
  },
  "language_info": {
   "codemirror_mode": {
    "name": "ipython",
    "version": 3
   },
   "file_extension": ".py",
   "mimetype": "text/x-python",
   "name": "python",
   "nbconvert_exporter": "python",
   "pygments_lexer": "ipython3",
   "version": "3.13.1"
  }
 },
 "nbformat": 4,
 "nbformat_minor": 5
}
