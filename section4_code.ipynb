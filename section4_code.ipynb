{
 "cells": [
  {
   "cell_type": "markdown",
   "id": "620914e0-4ac1-41b8-b8db-a85b0742db12",
   "metadata": {},
   "source": [
    "# Section 4 – Regression and Machine Learning\n",
    "This section is divided into three parts:\n",
    "1. Multiple Regression Model to predict aspect ratio (4.1)\n",
    "2. Logistic Regression for Letter vs. Non-Letter Classification (4.2)\n",
    "3. Categorical Features via Median Splits (4.3)"
   ]
  },
  {
   "cell_type": "markdown",
   "id": "c6b2b038-ce57-4b2b-8c9e-281427f8ea40",
   "metadata": {},
   "source": [
    "## Library Installation\n",
    "The commands needed to install the libraries required for section four."
   ]
  },
  {
   "cell_type": "code",
   "execution_count": null,
   "id": "0183e123-a424-4057-af3c-20dc7533f4f7",
   "metadata": {},
   "outputs": [],
   "source": [
    "%pip install pandas\n",
    "%pip install numpy \n",
    "%pip install matplotlib \n",
    "%pip install seaborn \n",
    "%pip install scipy \n",
    "%pip install scikit-learn\n",
    "%pip install IPython\n",
    "%pip install statsmodels"
   ]
  },
  {
   "cell_type": "markdown",
   "id": "2d523ffb-8e45-429e-ad17-dde07f9d4337",
   "metadata": {},
   "source": [
    "## Import Libraries and Load Data"
   ]
  },
  {
   "cell_type": "code",
   "execution_count": null,
   "id": "d93d4110-7cb1-44cf-b26b-a77205413022",
   "metadata": {},
   "outputs": [],
   "source": [
    "import pandas\n",
    "import numpy\n",
    "import matplotlib.pyplot as pyplot\n",
    "import seaborn\n",
    "import statsmodels.api as smapi\n",
    "from scipy import stats\n",
    "from IPython.display import display\n",
    "from sklearn.feature_selection import RFECV\n",
    "from sklearn.linear_model import LinearRegression, LogisticRegression\n",
    "from sklearn.model_selection import train_test_split\n",
    "from sklearn.metrics import accuracy_score, confusion_matrix, classification_report\n",
    "\n",
    "data = pandas.read_csv(\"40394874_features.csv\", delimiter=',')\n",
    "print(\"Head of Feature Data\")\n",
    "print(data.head())\n",
    "\n",
    "numeric_cols = ['nr_pix', 'rows_with_1', 'cols_with_1', 'rows_with_3p', 'cols_with_3p', 'aspect_ratio', 'neigh_1', 'no_neigh_above', 'no_neigh_below', 'no_neigh_left', 'no_neigh_right', 'no_neigh_horiz', 'no_neigh_vert', 'connected_areas', 'eyes', 'custom']\n",
    "\n",
    "data[numeric_cols] = data[numeric_cols].apply(pandas.to_numeric)"
   ]
  },
  {
   "cell_type": "markdown",
   "id": "ac3fb0bb-5e38-4760-af4d-baaf8242b7ef",
   "metadata": {},
   "source": [
    "## Multiple Regression Model to predict aspect ratio\n",
    "In this section, the goal was to predict the aspect_ratio of each handwritten symbol using a parsimonious set of predictors selected from the other 15 features. To achieve this, I fit a multiple regression model with Ordinary Least Squares (OLS)."
   ]
  },
  {
   "cell_type": "code",
   "execution_count": null,
   "id": "88ab825e-9b12-4a9d-9f2c-34c025695228",
   "metadata": {},
   "outputs": [],
   "source": [
    "x = data[predictor_feats]\n",
    "y = data['aspect_ratio']\n",
    "\n",
    "linear_regression = LinearRegression()\n",
    "\n",
    "selector = RFECV(linear_regression, step=1, cv=10, scoring='r2')\n",
    "selector.fit(x, y)\n",
    "\n",
    "selected_features = x.columns[selector.support_]\n",
    "print(\"Automatically selected features:\", selected_features.tolist())\n",
    "\n",
    "scores = selector.cv_results_['mean_test_score']\n",
    "\n",
    "pyplot.figure(figsize=(8, 6))\n",
    "pyplot.xlabel(\"Number of features selected\")\n",
    "pyplot.ylabel(\"CV R^2 Score\")\n",
    "pyplot.plot(range(1, len(scores) + 1), scores)\n",
    "pyplot.title(\"RFECV: Feature Selection Performance\")\n",
    "pyplot.show\n",
    "\n",
    "x = data[selected_features]\n",
    "x = smapi.add_constant(x)\n",
    "model = smapi.OLS(y, x).fit()\n",
    "print(f\"\\n{model.summary()}\\n\")"
   ]
  },
  {
   "cell_type": "markdown",
   "id": "c075f8e8-4626-4def-8b28-033b34e1fc38",
   "metadata": {},
   "source": [
    "## Logistic Regression for Letter vs. Non-Letter Classification\n",
    "In this section, I built a logistic regression model to classify images as letters or non-letters using the most discriminative feature identified in Section 3.3, connected_areas."
   ]
  },
  {
   "cell_type": "code",
   "execution_count": null,
   "id": "5ff215e1-d51d-4f8b-bdf1-4d3f6a1a1da2",
   "metadata": {},
   "outputs": [],
   "source": [
    "feature = 'connected_areas'\n",
    "\n",
    "x = data[[feature]]\n",
    "\n",
    "x = x.copy()\n",
    "y = data['label'].apply(lambda x: 1 if x in list(\"abcdefghij\") else 0)\n",
    "\n",
    "x_train, x_test, y_train, y_test = train_test_split(x, y, test_size=0.2, random_state=42)\n",
    "\n",
    "logistic_regression = LogisticRegression()\n",
    "logistic_regression.fit(x_train, y_train)\n",
    "\n",
    "y_predicted = logistic_regression.predict(x_test)\n",
    "\n",
    "print(\"Accuracy: \", accuracy_score(y_test, y_predicted))\n",
    "print(\"Confusion Matrix:\\n\", confusion_matrix(y_test, y_predicted))\n",
    "print(\"Classification Report:\\n\", classification_report(y_test, y_predicted))\n",
    "\n",
    "print(\"\\n\\n\")\n",
    "\n",
    "pyplot.figure(figsize=(8, 6))\n",
    "pyplot.scatter(x, y, c=y, cmap='bwr', alpha=0.5, edgecolors='k')\n",
    "x_values = numpy.linspace(x.min(), x.max(), 300).reshape(-1, 1)\n",
    "x_values_df = pandas.DataFrame(x_values, columns=x.columns)\n",
    "y_probability = logistic_regression.predict_proba(x_values_df)[:, 1]\n",
    "pyplot.plot(x_values, y_probability, color='black', linewidth=2)\n",
    "pyplot.title(\"Logistic Regression Fit Using Connected Areas\")\n",
    "pyplot.xlabel(f\"{feature}\")\n",
    "pyplot.ylabel(\"Probability of being a Letter\")\n",
    "pyplot.tight_layout()\n",
    "pyplot.show()"
   ]
  },
  {
   "attachments": {},
   "cell_type": "markdown",
   "id": "76b183c6-b693-4303-8b2e-e65e522bb00d",
   "metadata": {},
   "source": [
    "## Categorical Features via Median Splits\n",
    "In this section, I transformed three continuous features into categorical features by applying a median split"
   ]
  },
  {
   "cell_type": "code",
   "execution_count": null,
   "id": "625db138-1702-46e4-9f31-a26420571fbf",
   "metadata": {},
   "outputs": [],
   "source": [
    "data['split1'] = (data['nr_pix'] > data['nr_pix'].median()).astype(int)\n",
    "data['split2'] = (data['aspect_ratio'] > data['aspect_ratio'].median()).astype(int)\n",
    "data['split3'] = (data['neigh_1'] > data['neigh_1'].median()).astype(int)\n",
    "\n",
    "def map_label(x):\n",
    "    if x in list(\"abcdefghij\"):\n",
    "        return \"Letters\"\n",
    "    elif x.lower() in [\"smiley\", \"sad\"]:\n",
    "        return \"Faces\"\n",
    "    elif x.lower() in [\"xclaim\"]:\n",
    "        return \"Exclamation Marks\"\n",
    "    else:\n",
    "        return x\n",
    "\n",
    "data['class'] = data['label'].apply(map_label)\n",
    "data['class'] = pandas.Categorical(data['class'], categories=[\"Letters\", \"Faces\", \"Exclamation Marks\"], ordered=True)\n",
    "\n",
    "prop_table = data.groupby('class', observed=True)[['split1', 'split2', 'split3']].mean().reset_index()\n",
    "print(\"Proportion of '1's by Class for Each Split Feature:\\n\")\n",
    "display(prop_table)"
   ]
  }
 ],
 "metadata": {
  "kernelspec": {
   "display_name": "Python 3 (ipykernel)",
   "language": "python",
   "name": "python3"
  },
  "language_info": {
   "codemirror_mode": {
    "name": "ipython",
    "version": 3
   },
   "file_extension": ".py",
   "mimetype": "text/x-python",
   "name": "python",
   "nbconvert_exporter": "python",
   "pygments_lexer": "ipython3",
   "version": "3.13.1"
  }
 },
 "nbformat": 4,
 "nbformat_minor": 5
}
